{
 "cells": [
  {
   "cell_type": "markdown",
   "metadata": {},
   "source": [
    "# Lead Generation Agent - Google Colab Notebook\n",
    "\n",
    "This notebook demonstrates how to use the Lead Generation Agent to find, analyze, and score potential leads for your business.\n",
    "\n",
    "## Setup\n",
    "\n",
    "First, let's set up our environment and import the necessary modules."
   ]
  },
  {
   "cell_type": "code",
   "execution_count": null,
   "metadata": {},
   "source": [
    "# Install required packages\n",
    "!pip install -q matplotlib pandas seaborn numpy"
   ]
  },
  {
   "cell_type": "code",
   "execution_count": null,
   "metadata": {},
   "source": [
    "# Import system modules\n",
    "import sys\n",
    "import os\n",
    "import pandas as pd\n",
    "import matplotlib.pyplot as plt\n",
    "import seaborn as sns\n",
    "import numpy as np\n",
    "\n",
    "# Set up paths\n",
    "sys.path.append('.')\n",
    "\n",
    "# Import our modules\n",
    "from src.config import Config\n",
    "from src.lead_generation_agent import LeadGenerationAgent\n",
    "from src.data_processing import DataCleaner, EntityExtractor, PatternDetector\n",
    "from src.lead_scoring import LeadScorer, LeadRanker\n",
    "from src.visualization import LeadVisualizer\n",
    "from data.sample_data import SAMPLE_LEADS, SAMPLE_COMPANIES, SAMPLE_SKILLS_DATA, SAMPLE_INDUSTRY_DATA"
   ]
  },
  {
   "cell_type": "markdown",
   "metadata": {},
   "source": [
    "## Initialize the Lead Generation Agent\n",
    "\n",
    "Now, let's initialize our lead generation agent with the configuration."
   ]
  },
  {
   "cell_type": "code",
   "execution_count": null,
   "metadata": {},
   "source": [
    "# Create configuration\n",
    "config = Config()\n",
    "\n",
    "# Initialize lead generation agent\n",
    "agent = LeadGenerationAgent(config)\n",
    "\n",
    "# Initialize visualizer\n",
    "visualizer = LeadVisualizer(figsize=(10, 6))"
   ]
  },
  {
   "cell_type": "markdown",
   "metadata": {},
   "source": [
    "## Search for Leads\n",
    "\n",
    "Let's search for some leads based on criteria."
   ]
  },
  {
   "cell_type": "code",
   "execution_count": null,
   "metadata": {},
   "source": [
    "# Search for leads\n",
    "search_results = agent.search(\n",
    "    query=\"technology leadership\",\n",
    "    title=\"CTO\",\n",
    "    company=\"Tech\",\n",
    "    location=\"San Francisco\"\n",
    ")\n",
    "\n",
    "# Display search results\n",
    "print(f\"Found {len(search_results)} leads:\")\n",
    "visualizer.display_lead_table(search_results)"
   ]
  },
  {
   "cell_type": "markdown",
   "metadata": {},
   "source": [
    "## Analyze Lead Data\n",
    "\n",
    "Now, let's analyze our sample lead data to gain insights."
   ]
  },
  {
   "cell_type": "code",
   "execution_count": null,
   "metadata": {},
   "source": [
    "# Load sample leads\n",
    "for lead in SAMPLE_LEADS:\n",
    "    agent.add_lead(lead)\n",
    "\n",
    "# Get all leads\n",
    "all_leads = agent.get_leads()\n",
    "print(f\"Total leads: {len(all_leads)}\")\n",
    "\n",
    "# Display leads table\n",
    "visualizer.display_lead_table(all_leads, columns=['name', 'current_title', 'current_company', 'industry', 'location', 'score'])"
   ]
  },
  {
   "cell_type": "markdown",
   "metadata": {},
   "source": [
    "## Visualize Lead Distribution by Score\n",
    "\n",
    "Let's visualize the distribution of leads by their scores."
   ]
  },
  {
   "cell_type": "code",
   "execution_count": null,
   "metadata": {},
   "source": [
    "# Plot lead distribution by score\n",
    "fig = visualizer.plot_lead_distribution_by_score(all_leads)\n",
    "plt.show()"
   ]
  },
  {
   "cell_type": "markdown",
   "metadata": {},
   "source": [
    "## Visualize Leads by Industry\n",
    "\n",
    "Let's see how our leads are distributed across different industries."
   ]
  },
  {
   "cell_type": "code",
   "execution_count": null,
   "metadata": {},
   "source": [
    "# Plot leads by industry\n",
    "fig = visualizer.plot_leads_by_industry(all_leads)\n",
    "plt.show()"
   ]
  },
  {
   "cell_type": "markdown",
   "metadata": {},
   "source": [
    "## Visualize Leads by Title Level\n",
    "\n",
    "Let's see the distribution of leads by their title levels."
   ]
  },
  {
   "cell_type": "code",
   "execution_count": null,
   "metadata": {},
   "source": [
    "# Plot leads by title level\n",
    "fig = visualizer.plot_leads_by_title_level(all_leads)\n",
    "plt.show()"
   ]
  },
  {
   "cell_type": "markdown",
   "metadata": {},
   "source": [
    "## Analyze Score Components for a Lead\n",
    "\n",
    "Let's look at the score components for a specific lead to understand why they received their score."
   ]
  },
  {
   "cell_type": "code",
   "execution_count": null,
   "metadata": {},
   "source": [
    "# Get a specific lead\n",
    "lead = all_leads[0]  # First lead\n",
    "print(f\"Analyzing score components for {lead['name']} (Score: {lead['score']})\")\n",
    "\n",
    "# Plot score components\n",
    "fig = visualizer.plot_score_components(lead)\n",
    "plt.show()"
   ]
  },
  {
   "cell_type": "markdown",
   "metadata": {},
   "source": [
    "## Compare Leads\n",
    "\n",
    "Let's compare the top leads based on their overall scores."
   ]
  },
  {
   "cell_type": "code",
   "execution_count": null,
   "metadata": {},
   "source": [
    "# Initialize lead ranker\n",
    "ranker = LeadRanker()\n",
    "\n",
    "# Rank leads\n",
    "ranked_leads = ranker.rank_leads(all_leads)\n",
    "\n",
    "# Get top 5 leads\n",
    "top_leads = ranked_leads[:5]\n",
    "print(\"Top 5 Leads:\")\n",
    "visualizer.display_lead_table(top_leads, columns=['name', 'current_title', 'current_company', 'score'])\n",
    "\n",
    "# Compare top leads\n",
    "fig = visualizer.plot_lead_comparison(top_leads)\n",
    "plt.show()"
   ]
  },
  {
   "cell_type": "markdown",
   "metadata": {},
   "source": [
    "## Categorize Leads\n",
    "\n",
    "Let's categorize our leads as hot, warm, or cold based on their scores."
   ]
  },
  {
   "cell_type": "code",
   "execution_count": null,
   "metadata": {},
   "source": [
    "# Categorize leads\n",
    "categorized_leads = ranker.categorize_leads(all_leads)\n",
    "\n",
    "# Display counts\n",
    "print(f\"Hot Leads: {len(categorized_leads['hot'])}\")\n",
    "print(f\"Warm Leads: {len(categorized_leads['warm'])}\")\n",
    "print(f\"Cold Leads: {len(categorized_leads['cold'])}\")\n",
    "\n",
    "# Create a pie chart\n",
    "labels = ['Hot', 'Warm', 'Cold']\n",
    "sizes = [len(categorized_leads['hot']), len(categorized_leads['warm']), len(categorized_leads['cold'])]\n",
    "colors = ['#ff9999', '#66b3ff', '#99ff99']\n",
    "explode = (0.1, 0, 0)  # explode the 1st slice (Hot)\n",
    "\n",
    "plt.figure(figsize=(8, 8))\n",
    "plt.pie(sizes, explode=explode, labels=labels, colors=colors, autopct='%1.1f%%', shadow=True, startangle=90)\n",
    "plt.axis('equal')  # Equal aspect ratio ensures that pie is drawn as a circle\n",
    "plt.title('Lead Distribution by Category')\n",
    "plt.show()"
   ]
  },
  {
   "cell_type": "markdown",
   "metadata": {},
   "source": [
    "## Generate Lead Suggestions\n",
    "\n",
    "Let's generate lead suggestions based on specific criteria."
   ]
  },
  {
   "cell_type": "code",
   "execution_count": null,
   "metadata": {},
   "source": [
    "# Generate suggestions\n",
    "suggestions = agent.generate_suggestions(\n",
    "    industries=['Technology'],\n",
    "    title_levels=['C-Level', 'VP/Director'],\n",
    "    min_score=70\n",
    ")\n",
    "\n",
    "print(f\"Generated {len(suggestions)} suggestions:\")\n",
    "\n",
    "# Display suggestions\n",
    "for i, suggestion in enumerate(suggestions, 1):\n",
    "    lead = suggestion['lead']\n",
    "    print(f\"\\nSuggestion {i}:\")\n",
    "    print(f\"Title: {suggestion['title']}\")\n",
    "    print(f\"Lead: {lead['name']}, {lead['current_title']} at {lead['current_company']}\")\n",
    "    print(f\"Score: {lead['score']}\")\n",
    "    print(f\"Description: {suggestion['description']}\")\n",
    "    print(f\"Recommended Action: {suggestion['action']}\")\n",
    "    print(f\"Type: {suggestion['type']}\")"
   ]
  },
  {
   "cell_type": "markdown",
   "metadata": {},
   "source": [
    "## Analyze Industry Trends\n",
    "\n",
    "Let's analyze industry trends using our sample data."
   ]
  },
  {
   "cell_type": "code",
   "execution_count": null,
   "metadata": {},
   "source": [
    "# Initialize pattern detector\n",
    "pattern_detector = PatternDetector()\n",
    "\n",
    "# Detect industry clusters\n",
    "industry_clusters = pattern_detector.detect_industry_clusters(SAMPLE_INDUSTRY_DATA)\n",
    "\n",
    "# Display industry clusters\n",
    "print(\"High Growth Industries:\")\n",
    "print(\", \".join(industry_clusters['high_growth_industries']))\n",
    "print(\"\\nStable Industries:\")\n",
    "print(\", \".join(industry_clusters['stable_industries']))\n",
    "print(\"\\nDeclining Industries:\")\n",
    "print(\", \".join(industry_clusters['declining_industries']))\n",
    "\n",
    "# Create a bar chart of industry growth rates\n",
    "industry_names = [industry['name'] for industry in SAMPLE_INDUSTRY_DATA]\n",
    "growth_rates = [industry['growth_rate'] * 100 for industry in SAMPLE_INDUSTRY_DATA]  # Convert to percentage\n",
    "\n",
    "# Sort by growth rate\n",
    "sorted_data = sorted(zip(industry_names, growth_rates), key=lambda x: x[1], reverse=True)\n",
    "sorted_names = [item[0] for item in sorted_data]\n",
    "sorted_rates = [item[1] for item in sorted_data]\n",
    "\n",
    "plt.figure(figsize=(12, 6))\n",
    "bars = plt.bar(sorted_names, sorted_rates)\n",
    "\n",
    "# Color bars based on growth rate\n",
    "for i, bar in enumerate(bars):\n",
    "    if sorted_rates[i] > 15:  # High growth\n",
    "        bar.set_color('#66b3ff')  # Blue\n",
    "    elif sorted_rates[i] < 0:  # Declining\n",
    "        bar.set_color('#ff9999')  # Red\n",
    "    else:  # Stable\n",
    "        bar.set_color('#99ff99')  # Green\n",
    "\n",
    "plt.axhline(y=0, color='r', linestyle='-', alpha=0.3)\n",
    "plt.xlabel('Industry')\n",
    "plt.ylabel('Growth Rate (%)')\n",
    "plt.title('Industry Growth Rates')\n",
    "plt.xticks(rotation=45, ha='right')\n",
    "plt.tight_layout()\n",
    "plt.show()"
   ]
  },
  {
   "cell_type": "markdown",
   "metadata": {},
   "source": [
    "## Analyze Skill Trends\n",
    "\n",
    "Let's analyze skill trends using our sample data."
   ]
  },
  {
   "cell_type": "code",
   "execution_count": null,
   "metadata": {},
   "source": [
    "# Detect skill trends\n",
    "skill_trends = pattern_detector.detect_skill_trends(SAMPLE_SKILLS_DATA)\n",
    "\n",
    "# Display skill trends\n",
    "print(\"Trending Skills:\")\n",
    "print(\", \".join(skill_trends['trending_skills']))\n",
    "print(\"\\nStable Skills:\")\n",
    "print(\", \".join(skill_trends['stable_skills']))\n",
    "print(\"\\nDeclining Skills:\")\n",
    "print(\", \".join(skill_trends['declining_skills']))\n",
    "\n",
    "# Create a scatter plot of skill frequency vs. growth rate\n",
    "skill_names = [skill['name'] for skill in SAMPLE_SKILLS_DATA]\n",
    "frequencies = [skill['frequency'] for skill in SAMPLE_SKILLS_DATA]\n",
    "growth_rates = [skill['growth_rate'] * 100 for skill in SAMPLE_SKILLS_DATA]  # Convert to percentage\n",
    "\n",
    "plt.figure(figsize=(10, 8))\n",
    "plt.scatter(frequencies, growth_rates, s=100, alpha=0.7)\n",
    "\n",
    "# Add labels to each point\n",
    "for i, name in enumerate(skill_names):\n",
    "    plt.annotate(name, (frequencies[i], growth_rates[i]), \n",
    "                 xytext=(5, 5), textcoords='offset points')\n",
    "\n",
    "plt.axhline(y=0, color='r', linestyle='-', alpha=0.3)\n",
    "plt.xlabel('Frequency')\n",
    "plt.ylabel('Growth Rate (%)')\n",
    "plt.title('Skill Frequency vs. Growth Rate')\n",
    "plt.grid(True, alpha=0.3)\n",
    "plt.show()"
   ]
  },
  {
   "cell_type": "markdown",
   "metadata": {},
   "source": [
    "## Analyze Company Growth\n",
    "\n",
    "Let's analyze the growth patterns of our sample companies."
   ]
  },
  {
   "cell_type": "code",
   "execution_count": null,
   "metadata": {},
   "source": [
    "# Analyze company growth patterns\n",
    "for company in SAMPLE_COMPANIES:\n",
    "    growth_pattern = pattern_detector.detect_company_growth_pattern(company)\n",
    "    print(f\"\\nCompany: {company['name']}\")\n",
    "    print(f\"Industry: {company['industry']}\")\n",
    "    print(f\"Size: {company['size']}\")\n",
    "    print(f\"Growth Rate: {growth_pattern['growth_rate']:.2f}\")\n",
    "    print(f\"Hiring Activity: {growth_pattern['hiring_activity']}\")\n",
    "    print(f\"Growth Stage: {growth_pattern['growth_stage']}\")\n",
    "\n",
    "# Create a bar chart of company job postings\n",
    "company_names = [company['name'] for company in SAMPLE_COMPANIES]\n",
    "job_postings = [company['job_postings'] for company in SAMPLE_COMPANIES]\n",
    "recent_hires = [company['recent_hires'] for company in SAMPLE_COMPANIES]\n",
    "\n",
    "# Sort by job postings\n",
    "sorted_data = sorted(zip(company_names, job_postings, recent_hires), key=lambda x: x[1], reverse=True)\n",
    "sorted_names = [item[0] for item in sorted_data]\n",
    "sorted_postings = [item[1] for item in sorted_data]\n",
    "sorted_hires = [item[2] for item in sorted_data]\n",
    "\n",
    "plt.figure(figsize=(12, 6))\n",
    "\n",
    "x = np.arange(len(sorted_names))  # the label locations\n",
    "width = 0.35  # the width of the bars\n",
    "\n",
    "fig, ax = plt.subplots(figsize=(12, 6))\n",
    "rects1 = ax.bar(x - width/2, sorted_postings, width, label='Job Postings')\n",
    "rects2 = ax.bar(x + width/2, sorted_hires, width, label='Recent Hires')\n",
    "\n",
    "# Add some text for labels, title and custom x-axis tick labels, etc.\n",
    "ax.set_xlabel('Company')\n",
    "ax.set_ylabel('Count')\n",
    "ax.set_title('Job Postings and Recent Hires by Company')\n",
    "ax.set_xticks(x)\n",
    "ax.set_xticklabels(sorted_names, rotation=45, ha='right')\n",
    "ax.legend()\n",
    "\n",
    "fig.tight_layout()\n",
    "plt.show()"
   ]
  },
  {
   "cell_type": "markdown",
   "metadata": {},
   "source": [
    "## Conclusion\n",
    "\n",
    "In this notebook, we've demonstrated how to use the Lead Generation Agent to:\n",
    "\n",
    "1. Search for leads based on specific criteria\n",
    "2. Analyze lead data to gain insights\n",
    "3. Visualize lead distribution by score, industry, and title level\n",
    "4. Analyze score components for individual leads\n",
    "5. Compare and rank leads\n",
    "6. Categorize leads as hot, warm, or cold\n",
    "7. Generate lead suggestions\n",
    "8. Analyze industry and skill trends\n",
    "9. Analyze company growth patterns\n",
    "\n",
    "This provides a foundation for building a more sophisticated lead generation system that connects to real data sources and implements more advanced algorithms."
   ]
  }
 ],
 "metadata": {
  "kernelspec": {
   "display_name": "Python 3",
   "language": "python",
   "name": "python3"
  },
  "language_info": {
   "codemirror_mode": {
    "name": "ipython",
    "version": 3
   },
   "file_extension": ".py",
   "mimetype": "text/x-python",
   "name": "python",
   "nbconvert_exporter": "python",
   "pygments_lexer": "ipython3",
   "version": "3.8.10"
  }
 },
 "nbformat": 4,
 "nbformat_minor": 4
}
